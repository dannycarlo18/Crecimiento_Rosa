{
  "nbformat": 4,
  "nbformat_minor": 0,
  "metadata": {
    "colab": {
      "provenance": [],
      "authorship_tag": "ABX9TyNuKOqJy+VirmD2F/oDe9a0",
      "include_colab_link": true
    },
    "kernelspec": {
      "name": "python3",
      "display_name": "Python 3"
    },
    "language_info": {
      "name": "python"
    }
  },
  "cells": [
    {
      "cell_type": "markdown",
      "metadata": {
        "id": "view-in-github",
        "colab_type": "text"
      },
      "source": [
        "<a href=\"https://colab.research.google.com/github/dannycarlo18/Crecimiento_Rosa/blob/main/Crecimiento_Rosa_Lagrange.ipynb\" target=\"_parent\"><img src=\"https://colab.research.google.com/assets/colab-badge.svg\" alt=\"Open In Colab\"/></a>"
      ]
    },
    {
      "cell_type": "code",
      "execution_count": 3,
      "metadata": {
        "id": "HhRmLqPmGMw3",
        "colab": {
          "base_uri": "https://localhost:8080/"
        },
        "outputId": "d6187f90-0644-4ba3-99f2-5ad310642f7a"
      },
      "outputs": [
        {
          "output_type": "stream",
          "name": "stdout",
          "text": [
            "Dia a evaluar\n",
            "40\n",
            "Datos disponibles:\n",
            "Día 7: 10.2 cm\n",
            "Día 14: 17.8 cm\n",
            "Día 21: 25.6 cm\n",
            "Día 28: 33.4 cm\n",
            "Día 35: 41.4 cm\n",
            "Día 42: 48.9 cm\n",
            "Día 49: 56.7 cm\n",
            "\n",
            "Altura aproximada en el día 40: 46.84 cm\n"
          ]
        }
      ],
      "source": [
        "def lagrange_interpolation(x, y, x_eval):\n",
        "    \"\"\"\n",
        "    Interpolación de Lagrange para aproximar el valor en x_eval\n",
        "    x: lista de valores x conocidos (días)\n",
        "    y: lista de valores y conocidos (alturas)\n",
        "    x_eval: punto a evaluar (día 25)\n",
        "    \"\"\"\n",
        "    n = len(x)\n",
        "    resultado = 0.0\n",
        "\n",
        "    for i in range(n):\n",
        "        termino = y[i]\n",
        "        for j in range(n):\n",
        "            if i != j:\n",
        "                termino *= (x_eval - x[j]) / (x[i] - x[j])\n",
        "        resultado += termino\n",
        "\n",
        "    return resultado\n",
        "\n",
        "# Datos proporcionados\n",
        "dias = [7, 14, 21, 28, 35, 42, 49]\n",
        "alturas = [10.2, 17.8, 25.6, 33.4, 41.4, 48.9, 56.7]\n",
        "\n",
        "# Punto a evaluar (día 25)\n",
        "print(\"Dia a evaluar: \")\n",
        "dia_evaluar = int(input())\n",
        "\n",
        "# Calcular la aproximación\n",
        "altura_aproximada = lagrange_interpolation(dias, alturas, dia_evaluar)\n",
        "\n",
        "# Mostrar resultados\n",
        "print(f\"Datos disponibles:\")\n",
        "for d, h in zip(dias, alturas):\n",
        "    print(f\"Día {d}: {h} cm\")\n",
        "\n",
        "print(f\"\\nAltura aproximada en el día {dia_evaluar}: {altura_aproximada:.2f} cm\")"
      ]
    }
  ]
}