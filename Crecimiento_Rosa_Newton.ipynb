{
  "nbformat": 4,
  "nbformat_minor": 0,
  "metadata": {
    "colab": {
      "provenance": [],
      "authorship_tag": "ABX9TyPRGL1iQOdN3w5TFFjo2sBp",
      "include_colab_link": true
    },
    "kernelspec": {
      "name": "python3",
      "display_name": "Python 3"
    },
    "language_info": {
      "name": "python"
    }
  },
  "cells": [
    {
      "cell_type": "markdown",
      "metadata": {
        "id": "view-in-github",
        "colab_type": "text"
      },
      "source": [
        "<a href=\"https://colab.research.google.com/github/dannycarlo18/Crecimiento_Rosa/blob/main/Crecimiento_Rosa_Newton.ipynb\" target=\"_parent\"><img src=\"https://colab.research.google.com/assets/colab-badge.svg\" alt=\"Open In Colab\"/></a>"
      ]
    },
    {
      "cell_type": "code",
      "execution_count": 2,
      "metadata": {
        "colab": {
          "base_uri": "https://localhost:8080/"
        },
        "id": "HhRmLqPmGMw3",
        "outputId": "c274aaf8-58a9-41b7-a584-d3f63f626502"
      },
      "outputs": [
        {
          "output_type": "stream",
          "name": "stdout",
          "text": [
            "Dia a evaluar:\n",
            "25\n",
            "Datos disponibles:\n",
            "Día 7: 10.2 cm\n",
            "Día 14: 17.8 cm\n",
            "Día 21: 25.6 cm\n",
            "Día 28: 33.4 cm\n",
            "Día 35: 41.4 cm\n",
            "Día 42: 48.9 cm\n",
            "Día 49: 56.7 cm\n",
            "\n",
            "Altura aproximada en el día 25: 30.02 cm\n"
          ]
        }
      ],
      "source": [
        "import numpy as np\n",
        "import matplotlib.pyplot as plt\n",
        "\n",
        "def diferencias_divididas(x, y):\n",
        "    \"\"\"\n",
        "    Calcula la tabla de diferencias divididas\n",
        "    x: vector de valores x (días)\n",
        "    y: vector de valores y (alturas)\n",
        "    Devuelve: coeficientes del polinomio de Newton\n",
        "    \"\"\"\n",
        "    n = len(x)\n",
        "    coef = np.zeros([n, n])\n",
        "    coef[:,0] = y  # La primera columna son los valores de y\n",
        "\n",
        "    for j in range(1,n):\n",
        "        for i in range(n-j):\n",
        "            coef[i,j] = (coef[i+1,j-1] - coef[i,j-1]) / (x[i+j] - x[i])\n",
        "\n",
        "    return coef[0,:]  # La primera fila contiene los coeficientes necesarios\n",
        "\n",
        "def newton_interpol(x, y, x_eval):\n",
        "    \"\"\"\n",
        "    Interpolación polinomial de Newton\n",
        "    x: vector de valores x conocidos\n",
        "    y: vector de valores y conocidos\n",
        "    x_eval: punto(s) a evaluar\n",
        "    \"\"\"\n",
        "    n = len(x)\n",
        "    coef = diferencias_divididas(x, y)\n",
        "\n",
        "    # Evaluar el polinomio de Newton usando el esquema de Horner\n",
        "    resultado = coef[n-1]\n",
        "    for i in range(n-2, -1, -1):\n",
        "        resultado = resultado * (x_eval - x[i]) + coef[i]\n",
        "\n",
        "    return resultado\n",
        "\n",
        "# Datos proporcionados\n",
        "dias = np.array([7, 14, 21, 28, 35, 42, 49])\n",
        "alturas = np.array([10.2, 17.8, 25.6, 33.4, 41.4, 48.9, 56.7])\n",
        "\n",
        "# Punto a evaluar (día 25)\n",
        "print(\"Dia a evaluar:\")\n",
        "dia_evaluar = int(input())\n",
        "altura_aproximada = newton_interpol(dias, alturas, dia_evaluar)\n",
        "\n",
        "# Mostrar resultados\n",
        "print(\"Datos disponibles:\")\n",
        "for d, h in zip(dias, alturas):\n",
        "    print(f\"Día {d}: {h} cm\")\n",
        "\n",
        "print(f\"\\nAltura aproximada en el día {dia_evaluar}: {altura_aproximada:.2f} cm\")"
      ]
    }
  ]
}