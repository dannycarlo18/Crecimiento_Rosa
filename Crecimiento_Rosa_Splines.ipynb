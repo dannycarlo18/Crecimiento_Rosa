{
  "nbformat": 4,
  "nbformat_minor": 0,
  "metadata": {
    "colab": {
      "provenance": [],
      "authorship_tag": "ABX9TyM1sGtpbvJULkT1qrcJEcg/",
      "include_colab_link": true
    },
    "kernelspec": {
      "name": "python3",
      "display_name": "Python 3"
    },
    "language_info": {
      "name": "python"
    }
  },
  "cells": [
    {
      "cell_type": "markdown",
      "metadata": {
        "id": "view-in-github",
        "colab_type": "text"
      },
      "source": [
        "<a href=\"https://colab.research.google.com/github/dannycarlo18/Crecimiento_Rosa/blob/main/Crecimiento_Rosa_Splines.ipynb\" target=\"_parent\"><img src=\"https://colab.research.google.com/assets/colab-badge.svg\" alt=\"Open In Colab\"/></a>"
      ]
    },
    {
      "cell_type": "code",
      "execution_count": 3,
      "metadata": {
        "colab": {
          "base_uri": "https://localhost:8080/"
        },
        "id": "xyDMeQnVI3qy",
        "outputId": "203ac88a-fa88-4d7c-faa7-3f9d7dc9a42e"
      },
      "outputs": [
        {
          "output_type": "stream",
          "name": "stdout",
          "text": [
            "Dia a evaluar:\n",
            "25\n",
            "Datos disponibles:\n",
            "Día 7: 10.2 cm\n",
            "Día 14: 17.8 cm\n",
            "Día 21: 25.6 cm\n",
            "Día 28: 33.4 cm\n",
            "Día 35: 41.4 cm\n",
            "Día 42: 48.9 cm\n",
            "Día 49: 56.7 cm\n",
            "\n",
            "Altura aproximada en el día 25: 30.03 cm\n"
          ]
        }
      ],
      "source": [
        "import numpy as np\n",
        "from scipy.interpolate import CubicSpline\n",
        "import matplotlib.pyplot as plt\n",
        "\n",
        "# Datos proporcionados\n",
        "dias = np.array([7, 14, 21, 28, 35, 42, 49])\n",
        "alturas = np.array([10.2, 17.8, 25.6, 33.4, 41.4, 48.9, 56.7])\n",
        "\n",
        "# Crear el spline cúbico\n",
        "# 'natural' significa que la segunda derivada en los extremos es cero (condición de spline natural)\n",
        "cs = CubicSpline(dias, alturas, bc_type='natural')\n",
        "\n",
        "# Punto a evaluar (día 25)\n",
        "print(\"Dia a evaluar:\")\n",
        "dia_evaluar = int(input())\n",
        "altura_aproximada = cs(dia_evaluar)\n",
        "\n",
        "# Mostrar resultados\n",
        "print(\"Datos disponibles:\")\n",
        "for d, h in zip(dias, alturas):\n",
        "    print(f\"Día {d}: {h} cm\")\n",
        "\n",
        "print(f\"\\nAltura aproximada en el día {dia_evaluar}: {altura_aproximada:.2f} cm\")\n"
      ]
    }
  ]
}